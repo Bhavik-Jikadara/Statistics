{
 "metadata": {
  "language_info": {
   "codemirror_mode": {
    "name": "ipython",
    "version": 3
   },
   "file_extension": ".py",
   "mimetype": "text/x-python",
   "name": "python",
   "nbconvert_exporter": "python",
   "pygments_lexer": "ipython3",
   "version": "3.8.8-final"
  },
  "orig_nbformat": 2,
  "kernelspec": {
   "name": "python388jvsc74a57bd0607c5d15edb4676ba14e313b3e41dd58170812ac718eabc038447716fcae3432",
   "display_name": "Python 3.8.8 64-bit (conda)"
  }
 },
 "nbformat": 4,
 "nbformat_minor": 2,
 "cells": [
  {
   "source": [
    "# Mean\n",
    "- The mean (or average) is the most popular and well-known measure of central tendency. \n",
    "- We can calculate the mean for both discrete and continuous data, although its use is most often with continuous data.\n",
    "- Formula \n",
    "\\begin{equation} \\overline{x} = \\frac{x_{(1)} + x_{(2)} + x_{(3)} + ... + x_{(n)}}{n} \\end{equation} \n",
    "\n",
    "- we can also write this queation as \n",
    "\\begin{equation} \\overline{x} = \\frac{\\sum_{i=1}^{n} x_{(i)}}{n} \\end{equation} \n",
    "    - x_bar = Mean value of data\n",
    "    - x1, x2, x3, ..., xn = n different values of data\n",
    "    - n = total no of samples\n",
    "- The mean is equal to the sum of all the values in the data set divided by the number of values in the data set.\n",
    "- one of its important properties is that it minimises error in the prediction of any one value in your data set. That is, it is the value that produces the lowest amount of error from all other values in the data set.\n",
    "- Another important property of the mean is that it includes every value in your data set as part of the calculation. \n",
    "- Also, the mean is the only measure of central tendency where the sum of the deviations of each value from the mean is always zero.\n"
   ],
   "cell_type": "markdown",
   "metadata": {}
  },
  {
   "source": [
    "**Advantages**\n",
    "  - Most popular measure in fields such as business, engineering and computer science.\n",
    "  - It is unique - there is only one answer.\n",
    "  - Useful when comparing sets of data\n",
    "\n",
    "**Disadvantages**\n",
    "  - Affected by extreme values (outliers)"
   ],
   "cell_type": "markdown",
   "metadata": {}
  },
  {
   "cell_type": "code",
   "execution_count": null,
   "metadata": {},
   "outputs": [],
   "source": [
    "# lets calculate the mean value\n",
    "values = [12000, 13000, 12000, 14000, 15000, 13000, 15000, 16000, 17000, 14000, 13000, 12000]\n",
    "\n",
    "mean = sum(values) / len(values)\n",
    "\n",
    "print(f\"The average salary of Surat people is {round(mean,2)}\")"
   ]
  },
  {
   "source": [
    "# Median\n",
    "\n",
    "- You get the median of a set by simply arranging all the elements of it from smallest to greatest, then taking the middle value.\n",
    "- Lets consider an example  X = [3,1,6,7,2,8,9]\n",
    "   - The first step is to sort the given values\n",
    "   - X = [1,2,3,6,7,8,9]\n",
    "   - Take the middle value\n",
    "       - If the length of X is odd we can take the middle value so here median is **6**\n",
    "       - If the length of X is even then we take the average of 2 middle values \n",
    "   - The mean of this data is **5.1** which is close to a median value"
   ],
   "cell_type": "markdown",
   "metadata": {}
  },
  {
   "source": [
    "**Advantages**\n",
    "  - Extreme values (outliers) do not affect the median as strongly as they do the mean.\n",
    "  - Useful when comparing sets of data.\n",
    "  - It is unique - there is only one answer.\n",
    "\n",
    "**Disadvantages**\n",
    "  -  Not as popular as mean."
   ],
   "cell_type": "markdown",
   "metadata": {}
  },
  {
   "cell_type": "code",
   "execution_count": 8,
   "metadata": {},
   "outputs": [
    {
     "output_type": "stream",
     "name": "stdout",
     "text": [
      "The median salary of surat : $13500.0\nThe mean salary of surat: $13833.33\n"
     ]
    }
   ],
   "source": [
    "# lets take the same example\n",
    "values = [12000, 13000, 12000, 14000, 15000, 13000, 15000, 16000, 17000, 14000, 13000, 12000]\n",
    "values = sorted(values)\n",
    "\n",
    "if len(values) % 2 == 0:\n",
    "    mid_index = int(len(values)//2)\n",
    "    median = (values[mid_index-1] + values[mid_index]) / 2\n",
    "else:\n",
    "    mid_index = int(len(values)//2)\n",
    "    median = values[mid_index]\n",
    "\n",
    "mean = sum(values) / len(values)\n",
    "print(f\"The median salary of surat : ${round(median,2)}\")\n",
    "print(f\"The mean salary of surat: ${round(mean,2)}\")"
   ]
  },
  {
   "source": [
    "# Mode\n",
    "\n",
    "- The definition is simple, mode is the element that occurs most often in data. \n",
    "- If you plot your data in histograms, the mode will be the highest bar in a bar chart or histogram. \n",
    "- You can, therefore, sometimes consider the mode as being the most popular option.\n",
    "- Lets consider an example X = [3,1,6,1,2,1,9]\n",
    "    - Get the value which is repeated most of the times\n",
    "    - The value 1 is the most repeated and it is the mode of the data. \n",
    "- one of the problems with the mode is that it is not unique, so it leaves us with problems when we have two or more values that share the highest frequency\n",
    "- Lets consider an example X = [3,1,6,1,2,9,2]\n",
    "    - The value 1 and 2 are the most repeated and those two values are the mode of the data. \n",
    "    - If we get one mode we call it as **Uni-modal**.\n",
    "    - If we get two mode values we call it as **Bi-modal**.\n",
    "    - If we get more than two we call it as **Multi-modal**.\n",
    "- Another problem with the mode is that it will not provide us with a very good measure of central tendency when the most common value is far away from the rest of the data in the data set.\n",
    "- It is possible to have more than one mode, and it is possible to have no mode.  If there is no mode-write \"no mode\", do not write zero (0)."
   ],
   "cell_type": "markdown",
   "metadata": {}
  },
  {
   "source": [
    "So if we give an array with no repeated values, we get all values as a mode.\n",
    "\n",
    "**Advantages**\n",
    "   - Extreme values (outliers) do not affect the mode.\n",
    "   \n",
    "**Disadvantages**\n",
    "   - Not as popular as mean and median.\n",
    "   - Not necessarily unique - may be more than one answer\n",
    "   - When no values repeat in the data set, the mode is every value and is useless.\n",
    "   - When there is more than one mode, it is difficult to interpret and/or compare."
   ],
   "cell_type": "markdown",
   "metadata": {}
  },
  {
   "source": [
    "# lets calculate Mode\n",
    "def Mode(value):\n",
    "    value.sort()\n",
    "    frequency_count = []\n",
    "\n",
    "    i = 0\n",
    "    while i<len(value):\n",
    "        frequency_count.append(value.count(value[i]))\n",
    "        i += 1\n",
    "        \n",
    "    #the occurrences for each number in sorted values\n",
    "    count_dict = dict(zip(value,frequency_count))\n",
    "\n",
    "    # now you can create a custom dictionary count_dict for value in sorted values : the occurrences of each value\n",
    "    mode = {value for (value, count) in count_dict.items() if count == max(frequency_count)}\n",
    "    return mode\n",
    "\n",
    "value = [3,4,4,5,6,6,6,7,8,8,8,11]\n",
    "mode = Mode(value)\n",
    "print(\"Mode(s) is/are: \"+ str(mode))\n"
   ],
   "cell_type": "code",
   "metadata": {},
   "execution_count": 11,
   "outputs": [
    {
     "output_type": "stream",
     "name": "stdout",
     "text": [
      "Mode(s) is/are: {8, 6}\n"
     ]
    }
   ]
  },
  {
   "source": [
    "# What to use? Mean, median or mode?\n",
    "\n",
    "- There is no definite answer to this question.\n",
    "- when to use which one? That really depends on the particular case.\n",
    "- There are some rules of thumb, but there is no point of using only one number to describe a dataset.\n",
    "\n",
    "**Two important points**\n",
    "- If we add any value to all the points in the dataset. The Mean, Median and Mode values will be also shifted by the same value. If you add 5 to each data value, you will add 5 to the mean, mode and median.\n",
    "- If we multiply any value to all the points in the dataset. The Mean, Median and Mode values will be also shifted by the same value. If you multiply 2 to each data value, you will multiple 2 to the mean, mode and median.\n",
    "- Let's see an example\n",
    "\n",
    "| Datatype | values | Mean | Mode | Median  |\n",
    "|----------|--------|------|--------|-------|\n",
    "| Original data   |   6, 7, 8, 10, 12, 14, 14, 15, 16, 20| 12.2 | 14 | 13 |\n",
    "| Each value in original data added by 5    |   11, 12, 13, 15, 17, 19, 19, 20, 21, 25| 17.2 | 19 | 18\n",
    "| Each value in original data multiplied by 2| 12, 14, 16, 20, 24, 28, 28, 30, 32, 40 | 24.4 | 28 |26|\n"
   ],
   "cell_type": "markdown",
   "metadata": {}
  },
  {
   "source": [
    "![alt text](https://blog.minitab.com/hubfs/Imported_Blog_Media/1_curves.png)\n",
    "\n",
    "\n",
    "\n",
    "```\n",
    "If you understand it completely, then this image will be self-explanatory. \n",
    "```"
   ],
   "cell_type": "markdown",
   "metadata": {}
  }
 ]
}